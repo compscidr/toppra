{
  "cells": [
    {
      "cell_type": "code",
      "execution_count": null,
      "metadata": {
        "collapsed": false
      },
      "outputs": [],
      "source": [
        "%matplotlib inline"
      ]
    },
    {
      "cell_type": "markdown",
      "metadata": {},
      "source": [
        "\n# Retime an one dimensional path\n"
      ]
    },
    {
      "cell_type": "markdown",
      "metadata": {},
      "source": [
        "Import necessary libraries.\n\n"
      ]
    },
    {
      "cell_type": "code",
      "execution_count": null,
      "metadata": {
        "collapsed": false
      },
      "outputs": [],
      "source": [
        "import toppra as ta\nimport toppra.constraint as constraint\nimport toppra.algorithm as algo\nimport numpy as np\nimport matplotlib.pyplot as plt\n\nta.setup_logging(\"INFO\")"
      ]
    },
    {
      "cell_type": "markdown",
      "metadata": {},
      "source": [
        "We now generate a simply path.  When constructing a path, you must\n\"align\" the waypoint properly yourself. For instance, if the\nwaypoints are [0, 1, 10] like in the above example, the path\nposition should be aligned like [0, 0.1, 1.0]. If this is not done,\nthe CubicSpline Interpolator might result undesirable oscillating\npaths!\n\n"
      ]
    },
    {
      "cell_type": "code",
      "execution_count": null,
      "metadata": {
        "collapsed": false
      },
      "outputs": [],
      "source": [
        "waypts = [[0], [1], [10]]\npath = ta.SplineInterpolator([0, 0.1, 1.0], waypts)"
      ]
    },
    {
      "cell_type": "markdown",
      "metadata": {},
      "source": [
        "Setup the velocity and acceleration\n\n"
      ]
    },
    {
      "cell_type": "code",
      "execution_count": null,
      "metadata": {
        "collapsed": false
      },
      "outputs": [],
      "source": [
        "vlim = np.array([[-3, 3]])\nalim = np.array([[-4, 4]])\npc_vel = constraint.JointVelocityConstraint(vlim)\npc_acc = constraint.JointAccelerationConstraint(\n    alim, discretization_scheme=constraint.DiscretizationType.Interpolation)"
      ]
    },
    {
      "cell_type": "markdown",
      "metadata": {},
      "source": [
        "Setup the problem instance and solve it.\n\n"
      ]
    },
    {
      "cell_type": "code",
      "execution_count": null,
      "metadata": {
        "collapsed": false
      },
      "outputs": [],
      "source": [
        "instance = algo.TOPPRA([pc_vel, pc_acc], path, solver_wrapper='seidel')\njnt_traj = instance.compute_trajectory(0, 0)"
      ]
    },
    {
      "cell_type": "markdown",
      "metadata": {},
      "source": [
        "We can now visualize the result\n\n"
      ]
    },
    {
      "cell_type": "code",
      "execution_count": null,
      "metadata": {
        "collapsed": false
      },
      "outputs": [],
      "source": [
        "duration = jnt_traj.duration\nprint(\"Found optimal trajectory with duration {:f} sec\".format(duration))\nts = np.linspace(0, duration, 100)\nfig, axs = plt.subplots(3, 1, sharex=True)\nqs = jnt_traj.eval(ts)\nqds = jnt_traj.evald(ts)\nqdds = jnt_traj.evaldd(ts)\naxs[0].plot(ts, qs)\naxs[1].plot(ts, qds)\naxs[2].plot(ts, qdds)\nplt.show()"
      ]
    }
  ],
  "metadata": {
    "kernelspec": {
      "display_name": "Python 3",
      "language": "python",
      "name": "python3"
    },
    "language_info": {
      "codemirror_mode": {
        "name": "ipython",
        "version": 3
      },
      "file_extension": ".py",
      "mimetype": "text/x-python",
      "name": "python",
      "nbconvert_exporter": "python",
      "pygments_lexer": "ipython3",
      "version": "3.8.12"
    }
  },
  "nbformat": 4,
  "nbformat_minor": 0
}