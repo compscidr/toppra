{
  "cells": [
    {
      "cell_type": "code",
      "execution_count": null,
      "metadata": {
        "collapsed": false
      },
      "outputs": [],
      "source": [
        "%matplotlib inline"
      ]
    },
    {
      "cell_type": "markdown",
      "metadata": {},
      "source": [
        "\n# Retime a path subject to robust kinematic constraints\n"
      ]
    },
    {
      "cell_type": "code",
      "execution_count": null,
      "metadata": {
        "collapsed": false
      },
      "outputs": [],
      "source": [
        "import toppra as ta\nimport toppra.constraint as constraint\nimport toppra.algorithm as algo\nimport numpy as np\nimport matplotlib.pyplot as plt\nimport argparse\n\n\nparser = argparse.ArgumentParser(\n    description=\"An example showcasing the usage of robust constraints.\"\n    \"A velocity constraint and a robust acceleration constraint\"\n    \"are considered in this script.\"\n)\nparser.add_argument(\n    \"-N\",\n    \"--N\",\n    type=int,\n    help=\"Number of segments in the discretization.\",\n    default=100,\n)\nparser.add_argument(\"-v\", \"--verbose\", action=\"store_true\", default=False)\nparser.add_argument(\"-du\", \"--du\", default=1e-3, type=float)\nparser.add_argument(\"-dx\", \"--dx\", default=5e-2, type=float)\nparser.add_argument(\"-dc\", \"--dc\", default=9e-3, type=float)\nparser.add_argument(\"-so\", \"--solver_wrapper\", default=\"ecos\")\nparser.add_argument(\"-i\", \"--interpolation_scheme\", default=1, type=int)\nargs = parser.parse_args()\nif args.verbose:\n    ta.setup_logging(\"DEBUG\")\nelse:\n    ta.setup_logging(\"INFO\")\n\n# Parameters\nN_samples = 5\ndof = 7\n\n# Random waypoints used to obtain a random geometric path.\nnp.random.seed(9)\nway_pts = np.random.randn(N_samples, dof)\n\n# Create velocity bounds, then velocity constraint object\nvlim_ = np.random.rand(dof) * 20\nvlim = np.vstack((-vlim_, vlim_)).T\n# Create acceleration bounds, then acceleration constraint object\nalim_ = np.random.rand(dof) * 2\nalim = np.vstack((-alim_, alim_)).T\n\npath = ta.SplineInterpolator(np.linspace(0, 1, 5), way_pts)\npc_vel = constraint.JointVelocityConstraint(vlim)\npc_acc = constraint.JointAccelerationConstraint(\n    alim, discretization_scheme=constraint.DiscretizationType.Interpolation\n)\nrobust_pc_acc = constraint.RobustLinearConstraint(\n    pc_acc, [args.du, args.dx, args.dc], args.interpolation_scheme\n)\ninstance = algo.TOPPRA(\n    [pc_vel, robust_pc_acc],\n    path,\n    gridpoints=np.linspace(0, 1, args.N + 1),\n    solver_wrapper=args.solver_wrapper,\n)\n\nX = instance.compute_feasible_sets()\nK = instance.compute_controllable_sets(0, 0)\n\n_, sd_vec, _ = instance.compute_parameterization(0, 0)\n\nX = np.sqrt(X)\nK = np.sqrt(K)"
      ]
    },
    {
      "cell_type": "code",
      "execution_count": null,
      "metadata": {
        "collapsed": false
      },
      "outputs": [],
      "source": [
        "plt.plot(X[:, 0], c=\"green\", label=\"Feasible sets\")\nplt.plot(X[:, 1], c=\"green\")\nplt.plot(K[:, 0], \"--\", c=\"red\", label=\"Controllable sets\")\nplt.plot(K[:, 1], \"--\", c=\"red\")\nplt.plot(sd_vec, label=\"Velocity profile\")\nplt.legend()\nplt.title(\"Path-position path-velocity plot\")\nplt.show()"
      ]
    },
    {
      "cell_type": "code",
      "execution_count": null,
      "metadata": {
        "collapsed": false
      },
      "outputs": [],
      "source": [
        "jnt_traj = instance.compute_trajectory(0, 0)\nts_sample = np.linspace(0, jnt_traj.duration, 100)\nqs_sample = jnt_traj.evaldd(ts_sample)\n\nplt.plot(ts_sample, qs_sample)\nplt.show()"
      ]
    }
  ],
  "metadata": {
    "kernelspec": {
      "display_name": "Python 3",
      "language": "python",
      "name": "python3"
    },
    "language_info": {
      "codemirror_mode": {
        "name": "ipython",
        "version": 3
      },
      "file_extension": ".py",
      "mimetype": "text/x-python",
      "name": "python",
      "nbconvert_exporter": "python",
      "pygments_lexer": "ipython3",
      "version": "3.8.12"
    }
  },
  "nbformat": 4,
  "nbformat_minor": 0
}