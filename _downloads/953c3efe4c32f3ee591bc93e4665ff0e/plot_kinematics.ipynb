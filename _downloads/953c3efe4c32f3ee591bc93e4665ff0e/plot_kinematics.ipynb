{
  "cells": [
    {
      "cell_type": "code",
      "execution_count": null,
      "metadata": {
        "collapsed": false
      },
      "outputs": [],
      "source": [
        "%matplotlib inline"
      ]
    },
    {
      "cell_type": "markdown",
      "metadata": {},
      "source": [
        "# Retime a path subject to kinematic constraints\n\nIn this example, we will see how can we retime a generic spline-based\npath subject to kinematic constraints. This is very simple to do with\n`toppra`, as we shall see below. First import the library.\n"
      ]
    },
    {
      "cell_type": "code",
      "execution_count": null,
      "metadata": {
        "collapsed": false
      },
      "outputs": [],
      "source": [
        "import toppra as ta\nimport toppra.constraint as constraint\nimport toppra.algorithm as algo\nimport numpy as np\nimport matplotlib.pyplot as plt\nimport time\n\nta.setup_logging(\"INFO\")"
      ]
    },
    {
      "cell_type": "markdown",
      "metadata": {},
      "source": [
        "We generate a path with some random waypoints.\n\n"
      ]
    },
    {
      "cell_type": "code",
      "execution_count": null,
      "metadata": {
        "collapsed": false
      },
      "outputs": [],
      "source": [
        "def generate_new_problem(seed=9):\n    # Parameters\n    N_samples = 5\n    dof = 7\n    np.random.seed(seed)\n    way_pts = np.random.randn(N_samples, dof)\n    return (\n        np.linspace(0, 1, 5),\n        way_pts,\n        10 + np.random.rand(dof) * 20,\n        10 + np.random.rand(dof) * 2,\n    )\nss, way_pts, vlims, alims = generate_new_problem()"
      ]
    },
    {
      "cell_type": "markdown",
      "metadata": {},
      "source": [
        "Define the geometric path and two constraints.\n\n"
      ]
    },
    {
      "cell_type": "code",
      "execution_count": null,
      "metadata": {
        "collapsed": false
      },
      "outputs": [],
      "source": [
        "path = ta.SplineInterpolator(ss, way_pts)\npc_vel = constraint.JointVelocityConstraint(vlims)\npc_acc = constraint.JointAccelerationConstraint(alims)"
      ]
    },
    {
      "cell_type": "markdown",
      "metadata": {},
      "source": [
        "We solve the parametrization problem using the\n`ParametrizeConstAccel` parametrizer. This parametrizer is the\nclassical solution, guarantee constraint and boundary conditions\nsatisfaction.\n\n"
      ]
    },
    {
      "cell_type": "code",
      "execution_count": null,
      "metadata": {
        "collapsed": false
      },
      "outputs": [],
      "source": [
        "instance = algo.TOPPRA([pc_vel, pc_acc], path, parametrizer=\"ParametrizeConstAccel\")\njnt_traj = instance.compute_trajectory()"
      ]
    },
    {
      "cell_type": "markdown",
      "metadata": {},
      "source": [
        "The output trajectory is an instance of\n:class:`toppra.interpolator.AbstractGeometricPath`.\n\n"
      ]
    },
    {
      "cell_type": "code",
      "execution_count": null,
      "metadata": {
        "collapsed": false
      },
      "outputs": [],
      "source": [
        "ts_sample = np.linspace(0, jnt_traj.duration, 100)\nqs_sample = jnt_traj(ts_sample)\nqds_sample = jnt_traj(ts_sample, 1)\nqdds_sample = jnt_traj(ts_sample, 2)\nfig, axs = plt.subplots(3, 1, sharex=True)\nfor i in range(path.dof):\n    # plot the i-th joint trajectory\n    axs[0].plot(ts_sample, qs_sample[:, i], c=\"C{:d}\".format(i))\n    axs[1].plot(ts_sample, qds_sample[:, i], c=\"C{:d}\".format(i))\n    axs[2].plot(ts_sample, qdds_sample[:, i], c=\"C{:d}\".format(i))\naxs[2].set_xlabel(\"Time (s)\")\naxs[0].set_ylabel(\"Position (rad)\")\naxs[1].set_ylabel(\"Velocity (rad/s)\")\naxs[2].set_ylabel(\"Acceleration (rad/s2)\")\nplt.show()"
      ]
    },
    {
      "cell_type": "markdown",
      "metadata": {},
      "source": [
        "Optionally, we can inspect the output.\n\n"
      ]
    },
    {
      "cell_type": "code",
      "execution_count": null,
      "metadata": {
        "collapsed": false
      },
      "outputs": [],
      "source": [
        "instance.compute_feasible_sets()\ninstance.inspect()"
      ]
    }
  ],
  "metadata": {
    "kernelspec": {
      "display_name": "Python 3",
      "language": "python",
      "name": "python3"
    },
    "language_info": {
      "codemirror_mode": {
        "name": "ipython",
        "version": 3
      },
      "file_extension": ".py",
      "mimetype": "text/x-python",
      "name": "python",
      "nbconvert_exporter": "python",
      "pygments_lexer": "ipython3",
      "version": "3.8.12"
    }
  },
  "nbformat": 4,
  "nbformat_minor": 0
}