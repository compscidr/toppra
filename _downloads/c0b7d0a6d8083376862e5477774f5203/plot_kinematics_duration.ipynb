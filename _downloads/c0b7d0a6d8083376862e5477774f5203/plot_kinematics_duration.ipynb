{
  "cells": [
    {
      "cell_type": "code",
      "execution_count": null,
      "metadata": {
        "collapsed": false
      },
      "outputs": [],
      "source": [
        "%matplotlib inline"
      ]
    },
    {
      "cell_type": "markdown",
      "metadata": {},
      "source": [
        "\n# Retime a path to a specific duration\n"
      ]
    },
    {
      "cell_type": "markdown",
      "metadata": {},
      "source": [
        "`toppra` allows user to parametrize a path to a specific duration\nwhile still satisfy constraints. We will see how to do this in this\nexample. First, import necessary libraries.\n\n"
      ]
    },
    {
      "cell_type": "code",
      "execution_count": null,
      "metadata": {
        "collapsed": false
      },
      "outputs": [],
      "source": [
        "import toppra as ta\nimport toppra.constraint as constraint\nimport toppra.algorithm as algo\nimport numpy as np\nimport matplotlib.pyplot as plt\nimport time\n\nta.setup_logging(\"INFO\")"
      ]
    },
    {
      "cell_type": "markdown",
      "metadata": {},
      "source": [
        "Parameters\n\n"
      ]
    },
    {
      "cell_type": "code",
      "execution_count": null,
      "metadata": {
        "collapsed": false
      },
      "outputs": [],
      "source": [
        "N_samples = 5\nSEED = 9\ndof = 7"
      ]
    },
    {
      "cell_type": "markdown",
      "metadata": {},
      "source": [
        "Random waypoints used to obtain a random geometric path. Here,\nwe use spline interpolation.\n\n"
      ]
    },
    {
      "cell_type": "code",
      "execution_count": null,
      "metadata": {
        "collapsed": false
      },
      "outputs": [],
      "source": [
        "np.random.seed(SEED)\nway_pts = np.random.randn(N_samples, dof)\npath = ta.SplineInterpolator(np.linspace(0, 1, 5), way_pts)"
      ]
    },
    {
      "cell_type": "markdown",
      "metadata": {},
      "source": [
        "Create velocity bounds, then velocity constraint object\n\n"
      ]
    },
    {
      "cell_type": "code",
      "execution_count": null,
      "metadata": {
        "collapsed": false
      },
      "outputs": [],
      "source": [
        "vlim_ = np.random.rand(dof) * 20\nvlim = np.vstack((-vlim_, vlim_)).T"
      ]
    },
    {
      "cell_type": "markdown",
      "metadata": {},
      "source": [
        "Create acceleration bounds, then acceleration constraint object\n\n"
      ]
    },
    {
      "cell_type": "code",
      "execution_count": null,
      "metadata": {
        "collapsed": false
      },
      "outputs": [],
      "source": [
        "alim_ = np.random.rand(dof) * 2\nalim = np.vstack((-alim_, alim_)).T\npc_vel = constraint.JointVelocityConstraint(vlim)\npc_acc = constraint.JointAccelerationConstraint(\n    alim, discretization_scheme=constraint.DiscretizationType.Interpolation)"
      ]
    },
    {
      "cell_type": "markdown",
      "metadata": {},
      "source": [
        "Setup a parametrization instance\n\n"
      ]
    },
    {
      "cell_type": "code",
      "execution_count": null,
      "metadata": {
        "collapsed": false
      },
      "outputs": [],
      "source": [
        "instance = algo.TOPPRAsd([pc_vel, pc_acc], path)\ninstance.set_desired_duration(60)"
      ]
    },
    {
      "cell_type": "markdown",
      "metadata": {},
      "source": [
        "Retime the trajectory, only this step is necessary.\n\n"
      ]
    },
    {
      "cell_type": "code",
      "execution_count": null,
      "metadata": {
        "collapsed": false
      },
      "outputs": [],
      "source": [
        "jnt_traj = instance.compute_trajectory(0, 0)\nts_sample = np.linspace(0, jnt_traj.get_duration(), 100)\nqs_sample = jnt_traj(ts_sample, 2)"
      ]
    },
    {
      "cell_type": "markdown",
      "metadata": {},
      "source": [
        "Output\n\n"
      ]
    },
    {
      "cell_type": "code",
      "execution_count": null,
      "metadata": {
        "collapsed": false
      },
      "outputs": [],
      "source": [
        "plt.plot(ts_sample, qs_sample)\nplt.xlabel(\"Time (s)\")\nplt.ylabel(\"Joint acceleration (rad/s^2)\")\nplt.show()"
      ]
    },
    {
      "cell_type": "markdown",
      "metadata": {},
      "source": [
        "Compute the feasible sets and the controllable sets for viewing.\nNote that these steps are not necessary.\n\n"
      ]
    },
    {
      "cell_type": "code",
      "execution_count": null,
      "metadata": {
        "collapsed": false
      },
      "outputs": [],
      "source": [
        "X = instance.compute_feasible_sets()\nK = instance.compute_controllable_sets(0, 0)\n_, sd_vec, _ = instance.compute_parameterization(0, 0)\nX = np.sqrt(X)\nK = np.sqrt(K)\nplt.plot(X[:, 0], c='green', label=\"Feasible sets\")\nplt.plot(X[:, 1], c='green')\nplt.plot(K[:, 0], '--', c='red', label=\"Controllable sets\")\nplt.plot(K[:, 1], '--', c='red')\nplt.plot(sd_vec, label=\"Velocity profile\")\nplt.title(\"Path-position path-velocity plot\")\nplt.xlabel(\"Path position\")\nplt.ylabel(\"Path velocity square\")\nplt.legend()\nplt.tight_layout()\nplt.show()"
      ]
    }
  ],
  "metadata": {
    "kernelspec": {
      "display_name": "Python 3",
      "language": "python",
      "name": "python3"
    },
    "language_info": {
      "codemirror_mode": {
        "name": "ipython",
        "version": 3
      },
      "file_extension": ".py",
      "mimetype": "text/x-python",
      "name": "python",
      "nbconvert_exporter": "python",
      "pygments_lexer": "ipython3",
      "version": "3.8.12"
    }
  },
  "nbformat": 4,
  "nbformat_minor": 0
}