{
  "cells": [
    {
      "cell_type": "code",
      "execution_count": null,
      "metadata": {
        "collapsed": false
      },
      "outputs": [],
      "source": [
        "%matplotlib inline"
      ]
    },
    {
      "cell_type": "markdown",
      "metadata": {},
      "source": [
        "\n# Retime a straight path\n"
      ]
    },
    {
      "cell_type": "code",
      "execution_count": null,
      "metadata": {
        "collapsed": false
      },
      "outputs": [],
      "source": [
        "import toppra as ta\nimport toppra.constraint as constraint\nimport toppra.algorithm as algo\nimport numpy as np\nimport matplotlib.pyplot as plt\nimport time\n\ntime.sleep(0.1)"
      ]
    },
    {
      "cell_type": "code",
      "execution_count": null,
      "metadata": {
        "collapsed": false
      },
      "outputs": [],
      "source": [
        "way_pts, vel_limits, accel_limits = np.array([[0, 0, 1], [0.2, 0.3, 0]]), np.array([0.1, 0.2, 0.3]), np.r_[1.0,2,3]\npath_scalars = np.linspace(0, 1, len(way_pts))\npath = ta.SplineInterpolator(path_scalars, way_pts)\n\nss = np.linspace(0, 1, 100)\nqs = path(np.linspace(0, 1, 100))\nfor i in range(way_pts.shape[1]):\n    plt.plot(ss, qs[:, i])\nplt.show()"
      ]
    },
    {
      "cell_type": "markdown",
      "metadata": {},
      "source": [
        "Create velocity bounds, then velocity constraint object\n\n"
      ]
    },
    {
      "cell_type": "code",
      "execution_count": null,
      "metadata": {
        "collapsed": false
      },
      "outputs": [],
      "source": [
        "vlim = np.vstack((-vel_limits, vel_limits)).T\n# Create acceleration bounds, then acceleration constraint object\nalim = np.vstack((-accel_limits, accel_limits)).T\npc_vel = constraint.JointVelocityConstraint(vlim)\npc_acc = constraint.JointAccelerationConstraint(\n    alim, discretization_scheme=constraint.DiscretizationType.Interpolation)\n\n# Setup a parametrization instance. The keyword arguments are\n# optional.\ninstance = algo.TOPPRA([pc_vel, pc_acc], path, solver_wrapper='seidel')\njnt_traj = instance.compute_trajectory(0, 0)"
      ]
    },
    {
      "cell_type": "code",
      "execution_count": null,
      "metadata": {
        "collapsed": false
      },
      "outputs": [],
      "source": [
        "ts_sample = np.linspace(0, jnt_traj.get_duration(), 100)\nqs_sample = jnt_traj.eval(ts_sample)  # sampled joint positions\nqds_sample = jnt_traj.evald(ts_sample)  # sampled joint velocities\nqdds_sample = jnt_traj.evaldd(ts_sample)  # sampled joint accelerations\n\nfor i in range(jnt_traj.dof):\n    # plot the i-th joint trajectory\n    plt.plot(ts_sample, qds_sample[:, i], c=\"C{:d}\".format(i))\n    # plot the i-th joint waypoints\n    # plt.plot(data['t_waypts'], way_pts[:, i], 'x', c=\"C{:d}\".format(i))\nplt.xlabel(\"Time (s)\")\nplt.ylabel(\"Joint velocity (rad/s^2)\")\nplt.show()"
      ]
    }
  ],
  "metadata": {
    "kernelspec": {
      "display_name": "Python 3",
      "language": "python",
      "name": "python3"
    },
    "language_info": {
      "codemirror_mode": {
        "name": "ipython",
        "version": 3
      },
      "file_extension": ".py",
      "mimetype": "text/x-python",
      "name": "python",
      "nbconvert_exporter": "python",
      "pygments_lexer": "ipython3",
      "version": "3.8.12"
    }
  },
  "nbformat": 4,
  "nbformat_minor": 0
}